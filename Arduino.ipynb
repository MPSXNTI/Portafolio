{
  "nbformat": 4,
  "nbformat_minor": 0,
  "metadata": {
    "colab": {
      "provenance": []
    },
    "kernelspec": {
      "name": "python3",
      "display_name": "Python 3"
    },
    "language_info": {
      "name": "python"
    }
  },
  "cells": [
    {
      "cell_type": "code",
      "source": [
        "// Pin\n",
        "\n",
        "// Variable\n",
        "\n",
        "void setup() {\n",
        "  // Analog\n",
        "\n",
        "  // Digital\n",
        "\n",
        "  Serial.begin(9600);\n",
        "}\n",
        "\n",
        "void loop() {\n",
        "  mainArduino();\n",
        "  secondaryArduino();\n",
        "  delay(1000);\n",
        "}\n",
        "\n",
        "void mainArduino() {}\n",
        "\n",
        "void secondaryArduino() {}"
      ],
      "metadata": {
        "id": "GDUXNIPLdQvf"
      },
      "execution_count": null,
      "outputs": []
    },
    {
      "cell_type": "markdown",
      "source": [
        "<dl>\n",
        "  <dt>Pines</dt>\n",
        "  <dd>\n",
        "  Se declaran los pines que se estan utilizando. <br>Ejemplo: int LedRed = 9;.</br>\n",
        "  </dd>\n",
        "  <dt>Variables</dt>\n",
        "  <dd>\n",
        "  Guardamos en valores int, float, char, boolean, etc, todo dato que nos ayudaran o necesitemos. <br>Ejemplos:</br>int numero = 10;<br>float temperatura = 25.5;</br>char letra = \"A\";<br>boolean estado = true;</br>\n",
        "  </dd>\n",
        "  <dt>void setup() {}</dt>\n",
        "  <dd>\n",
        "  Su propósito principal es realizar configuraciones y establecer el estado inicial de los pines y otros elementos necesarios para el funcionamiento del programa. <br>Ejemplos:</br>pinMode(13, OUTPUT);<br>pinMode(2, INPUT);</br>Serial.begin(9600);\n",
        "  </dd>\n",
        "  <dt>void loop() {}</dt>\n",
        "  <dd>\n",
        "  La función void loop() es donde colocas el código que quieres que se ejecute repetidamente en tu programa de Arduino. La ejecución de esta función continuará en un bucle infinito hasta que se apague la placa Arduino. <br>Ejemplos:</br>Lectura de sensores: luminicida = analogRead(PinFR)<br>Actualización de salidas: digitalWrite(13, HIGH); digitalWrite(13, LOW);</br><br></br>\n",
        "  </dd>\n",
        "</dl>"
      ],
      "metadata": {
        "id": "nx2mOGEwV-Yf"
      }
    }
  ]
}